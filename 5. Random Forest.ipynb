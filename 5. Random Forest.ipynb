{
 "cells": [
  {
   "cell_type": "code",
   "execution_count": 40,
   "id": "7a53a7fc-a248-4aef-b818-94b0bb6138ee",
   "metadata": {},
   "outputs": [
    {
     "name": "stdout",
     "output_type": "stream",
     "text": [
      "Random Forest Algorithms\n",
      "r_score:  0.6975746945811798\n"
     ]
    }
   ],
   "source": [
    "# Data collection\n",
    "import pandas as pd\n",
    "dataset = pd.read_csv(\"50_Startups.csv\")\n",
    "\n",
    "#Data Processing\n",
    "dataset = pd.get_dummies(dataset, drop_first=True)\n",
    "#Input and Output Recognition\n",
    "independent = dataset[['R&D Spend', 'Administration', 'Marketing Spend',\n",
    "       'State_Florida', 'State_New York']]\n",
    "dependent = dataset['Profit']\n",
    "\n",
    "\n",
    "#Split Data for training and testing\n",
    "from sklearn.model_selection import train_test_split\n",
    "X_train, X_test, Y_train, Y_test = train_test_split(independent, dependent, test_size= 0.30, random_state= 0)\n",
    "\n",
    "#preprocess the X input for better accuracy or R2 score\n",
    "from sklearn.preprocessing import StandardScaler\n",
    "sc = StandardScaler()\n",
    "X_train = sc.fit_transform(X_train)\n",
    "X_test = sc.fit_transform(X_test)\n",
    "\n",
    "#create model\n",
    "\n",
    "print(\"Random Forest Algorithms\")\n",
    "from sklearn.ensemble import RandomForestRegressor\n",
    "\n",
    "#def build Model\n",
    "regressor = RandomForestRegressor(n_estimators= 50, random_state = 0) \n",
    "regressor.fit(X_train, Y_train) \n",
    "    \n",
    "# evaluation\n",
    "y_pred = regressor.predict(X_test)\n",
    "    \n",
    "# to metrics\n",
    "from sklearn.metrics import r2_score\n",
    "r_score = r2_score(Y_test, y_pred) \n",
    "print(\"r_score: \", r_score) \n",
    "    "
   ]
  },
  {
   "cell_type": "code",
   "execution_count": null,
   "id": "766b10e3-a601-47f8-a4b9-a158c471e08c",
   "metadata": {},
   "outputs": [],
   "source": []
  }
 ],
 "metadata": {
  "kernelspec": {
   "display_name": "Python [conda env:base] *",
   "language": "python",
   "name": "conda-base-py"
  },
  "language_info": {
   "codemirror_mode": {
    "name": "ipython",
    "version": 3
   },
   "file_extension": ".py",
   "mimetype": "text/x-python",
   "name": "python",
   "nbconvert_exporter": "python",
   "pygments_lexer": "ipython3",
   "version": "3.12.7"
  }
 },
 "nbformat": 4,
 "nbformat_minor": 5
}
