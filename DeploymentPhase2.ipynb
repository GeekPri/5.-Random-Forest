{
 "cells": [
  {
   "cell_type": "code",
   "execution_count": null,
   "id": "6cbc8a49-36cf-48c4-8b1b-31c51f8cfb9d",
   "metadata": {},
   "outputs": [],
   "source": []
  }
 ],
 "metadata": {
  "kernelspec": {
   "display_name": "",
   "name": ""
  },
  "language_info": {
   "name": ""
  }
 },
 "nbformat": 4,
 "nbformat_minor": 5
}
